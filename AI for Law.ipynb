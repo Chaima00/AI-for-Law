{
 "cells": [
  {
   "cell_type": "code",
   "execution_count": 1,
   "id": "252652ec",
   "metadata": {},
   "outputs": [],
   "source": [
    "#!pip install PyMuPDF"
   ]
  },
  {
   "cell_type": "code",
   "execution_count": 2,
   "id": "6213c2ea",
   "metadata": {},
   "outputs": [
    {
     "name": "stdout",
     "output_type": "stream",
     "text": [
      "File exists? True\n",
      "Full path: /workspaces/AI-for-Law/sample_contracts/sample_contract.pdf\n",
      "Text extraction successful!\n",
      " \n",
      " \n",
      " \n",
      " \n",
      "                                  EXHIBIT 10.1 \n",
      " \n",
      " \n",
      " \n",
      " \n",
      " \n",
      " \n",
      "                                 LOAN AGREEMENT \n",
      " \n",
      " \n",
      "This  Loan  Agreement  (this  \"Agreement\"),  is made as of  September  21,  2014 \n",
      "between: \n",
      " \n",
      "     1. Americann, Inc. (\"Americann\") and \n",
      " \n",
      "     2. Wellness Group Pharms, LLC (\"WGP\"). \n",
      " \n",
      " \n",
      "                                  INTRODUCTION \n",
      " \n",
      "     WGP has requested that  Americann  extend credit to WGP in the form of loan \n",
      "not to exceed $4,760,000 to be used to fund WGP's  acquisition,  development and \n",
      "construction of property,  plant, equipment,  all necessary permits and start-up \n",
      "costs and  expenses  in  accordance  with those costs and  operating  income and \n",
      "expense  projections  shown on the attached Exhibit A. The Property on which the \n",
      "cultivation and growing facility will be constructed is described on Exhibit B. \n",
      " \n",
      "                                    AGREEMENT \n",
      " \n",
      "The parties agree as follows: \n",
      " \n",
      "     1. The Loan. \n",
      " \n",
      "     1.1 Subject to the terms and conditions \n"
     ]
    }
   ],
   "source": [
    "import fitz  # PyMuPDF\n",
    "import os\n",
    "\n",
    "# Step 1: Define the file path\n",
    "file_path = \"sample_contracts/sample_contract.pdf\"\n",
    "\n",
    "# Step 2: Debug: Check if file exists\n",
    "print(\"File exists?\", os.path.exists(file_path))\n",
    "print(\"Full path:\", os.path.abspath(file_path))\n",
    "\n",
    "# Step 3: Define function to extract text\n",
    "def extract_text_from_pdf(path):\n",
    "    doc = fitz.open(path)\n",
    "    text = \"\"\n",
    "    for page in doc:\n",
    "        text += page.get_text()\n",
    "    return text\n",
    "\n",
    "# Step 4: Use the function\n",
    "if os.path.exists(file_path):\n",
    "    pdf_text = extract_text_from_pdf(file_path)\n",
    "    print(\"Text extraction successful!\")\n",
    "    print(pdf_text[:1000])  # Show first 1000 characters\n",
    "else:\n",
    "    print(\"File not found. Please check the path.\")\n"
   ]
  }
 ],
 "metadata": {
  "kernelspec": {
   "display_name": "Python 3 (ipykernel)",
   "language": "python",
   "name": "python3"
  },
  "language_info": {
   "codemirror_mode": {
    "name": "ipython",
    "version": 3
   },
   "file_extension": ".py",
   "mimetype": "text/x-python",
   "name": "python",
   "nbconvert_exporter": "python",
   "pygments_lexer": "ipython3",
   "version": "3.9.12"
  }
 },
 "nbformat": 4,
 "nbformat_minor": 5
}
