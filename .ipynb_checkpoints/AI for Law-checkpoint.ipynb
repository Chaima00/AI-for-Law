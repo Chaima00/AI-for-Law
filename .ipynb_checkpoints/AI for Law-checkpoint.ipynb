{
 "cells": [
  {
   "cell_type": "code",
   "execution_count": 1,
   "id": "2d7e863b",
   "metadata": {},
   "outputs": [],
   "source": [
    "#!pip install PyMuPDF\n",
    "#!pip install transformers\n",
    "#!pip install torch\n",
    "#!pip install pdfplumber"
   ]
  },
  {
   "cell_type": "code",
   "execution_count": 2,
   "id": "da968cf1",
   "metadata": {},
   "outputs": [
    {
     "name": "stdout",
     "output_type": "stream",
     "text": [
      "File exists? True\n",
      "Full path: /workspaces/AI-for-Law/sample_contracts/sample_contract.pdf\n",
      "Text extraction successful!\n",
      " \n",
      " \n",
      " \n",
      " \n",
      "                                  EXHIBIT 10.1 \n",
      " \n",
      " \n",
      " \n",
      " \n",
      " \n",
      " \n",
      "                                 LOAN AGREEMENT \n",
      " \n",
      " \n",
      "This  Loan  Agreement  (this  \"Agreement\"),  is made as of  September  21,  2014 \n",
      "between: \n",
      " \n",
      "     1. Americann, Inc. (\"Americann\") and \n",
      " \n",
      "     2. Wellness Group Pharms, LLC (\"WGP\"). \n",
      " \n",
      " \n",
      "                                  INTRODUCTION \n",
      " \n",
      "     WGP has requested that  Americann  extend credit to WGP in the form of loan \n",
      "not to exceed $4,760,000 to be used to fund WGP's  acquisition,  development and \n",
      "construction of property,  plant, equipment,  all necessary permits and start-up \n",
      "costs and  expenses  in  accordance  with those costs and  operating  income and \n",
      "expense  projections  shown on the attached Exhibit A. The Property on which the \n",
      "cultivation and growing facility will be constructed is described on Exhibit B. \n",
      " \n",
      "                                    AGREEMENT \n",
      " \n",
      "The parties agree as follows: \n",
      " \n",
      "     1. The Loan. \n",
      " \n",
      "     1.1 Subject to the terms and conditions \n"
     ]
    }
   ],
   "source": [
    "import fitz  # PyMuPDF\n",
    "import os\n",
    "\n",
    "# Step 1: Define the file path\n",
    "file_path = \"sample_contracts/sample_contract.pdf\"\n",
    "\n",
    "# Step 2: Debug: Check if file exists\n",
    "print(\"File exists?\", os.path.exists(file_path))\n",
    "print(\"Full path:\", os.path.abspath(file_path))\n",
    "\n",
    "# Step 3: Define function to extract text\n",
    "def extract_text_from_pdf(path):\n",
    "    doc = fitz.open(path)\n",
    "    text = \"\"\n",
    "    for page in doc:\n",
    "        text += page.get_text()\n",
    "    return text\n",
    "\n",
    "# Step 4: Use the function\n",
    "if os.path.exists(file_path):\n",
    "    pdf_text = extract_text_from_pdf(file_path)\n",
    "    print(\"Text extraction successful!\")\n",
    "    print(pdf_text[:1000])  # Show first 1000 characters\n",
    "else:\n",
    "    print(\"File not found. Please check the path.\")\n"
   ]
  },
  {
   "cell_type": "markdown",
   "id": "4f919178",
   "metadata": {},
   "source": [
    "## Summarization of the contract"
   ]
  },
  {
   "cell_type": "code",
   "execution_count": 4,
   "id": "cac55da5",
   "metadata": {},
   "outputs": [
    {
     "name": "stderr",
     "output_type": "stream",
     "text": [
      "Device set to use cpu\n"
     ]
    },
    {
     "name": "stdout",
     "output_type": "stream",
     "text": [
      " Americann, Inc. (\"Americann\") and Wellness Group Pharms, LLC (\"WGP\") agree to a loan of $4,760,000. The loan will be used to fund WGP's acquisition, development and construction of property, plant, equipment, and all necessary permits.\n"
     ]
    }
   ],
   "source": [
    "from transformers import pipeline\n",
    "\n",
    "summarizer = pipeline(\"summarization\", model=\"facebook/bart-large-cnn\")\n",
    "\n",
    "summary = summarizer(pdf_text[:1024])  # Truncate if too long\n",
    "print(summary[0]['summary_text'])"
   ]
  },
  {
   "cell_type": "markdown",
   "id": "00aac7f7",
   "metadata": {},
   "source": [
    "## Questions and answers on the contract"
   ]
  },
  {
   "cell_type": "code",
   "execution_count": 5,
   "id": "09344461",
   "metadata": {},
   "outputs": [
    {
     "data": {
      "application/vnd.jupyter.widget-view+json": {
       "model_id": "f292476d9400431e88ef52ee891292be",
       "version_major": 2,
       "version_minor": 0
      },
      "text/plain": [
       "config.json:   0%|          | 0.00/473 [00:00<?, ?B/s]"
      ]
     },
     "metadata": {},
     "output_type": "display_data"
    },
    {
     "data": {
      "application/vnd.jupyter.widget-view+json": {
       "model_id": "4a7da92f0eed4914bc903e00231d0627",
       "version_major": 2,
       "version_minor": 0
      },
      "text/plain": [
       "model.safetensors:   0%|          | 0.00/261M [00:00<?, ?B/s]"
      ]
     },
     "metadata": {},
     "output_type": "display_data"
    },
    {
     "data": {
      "application/vnd.jupyter.widget-view+json": {
       "model_id": "5468fe445eaf44b69e6b57a33717de49",
       "version_major": 2,
       "version_minor": 0
      },
      "text/plain": [
       "tokenizer_config.json:   0%|          | 0.00/49.0 [00:00<?, ?B/s]"
      ]
     },
     "metadata": {},
     "output_type": "display_data"
    },
    {
     "data": {
      "application/vnd.jupyter.widget-view+json": {
       "model_id": "a2d285eacb694d129cf17d66784dba2d",
       "version_major": 2,
       "version_minor": 0
      },
      "text/plain": [
       "vocab.txt:   0%|          | 0.00/213k [00:00<?, ?B/s]"
      ]
     },
     "metadata": {},
     "output_type": "display_data"
    },
    {
     "data": {
      "application/vnd.jupyter.widget-view+json": {
       "model_id": "6256aed291b94f99bba57224fd0de95b",
       "version_major": 2,
       "version_minor": 0
      },
      "text/plain": [
       "tokenizer.json:   0%|          | 0.00/436k [00:00<?, ?B/s]"
      ]
     },
     "metadata": {},
     "output_type": "display_data"
    },
    {
     "name": "stderr",
     "output_type": "stream",
     "text": [
      "Device set to use cpu\n"
     ]
    },
    {
     "name": "stdout",
     "output_type": "stream",
     "text": [
      "WGP will not, directly or indirectly, negotiate with \n",
      "any third party\n"
     ]
    }
   ],
   "source": [
    "from transformers import pipeline\n",
    "\n",
    "qa = pipeline(\"question-answering\", model=\"distilbert-base-cased-distilled-squad\")\n",
    "\n",
    "question = \"What is the termination clause?\"\n",
    "answer = qa(question=question, context=pdf_text)\n",
    "print(answer['answer'])"
   ]
  },
  {
   "cell_type": "markdown",
   "id": "e4e68024",
   "metadata": {},
   "source": [
    "## Legal Bert model for classification or fine tuning"
   ]
  },
  {
   "cell_type": "code",
   "execution_count": 7,
   "id": "3c9aed4a",
   "metadata": {},
   "outputs": [],
   "source": [
    "from transformers import AutoTokenizer, AutoModel\n",
    "\n",
    "tokenizer = AutoTokenizer.from_pretrained(\"nlpaueb/legal-bert-base-uncased\")\n",
    "model = AutoModel.from_pretrained(\"nlpaueb/legal-bert-base-uncased\")\n",
    "\n",
    "inputs = tokenizer(pdf_text[:512], return_tensors=\"pt\", truncation=True)\n",
    "outputs = model(**inputs)\n"
   ]
  },
  {
   "cell_type": "code",
   "execution_count": 8,
   "id": "2456b1df",
   "metadata": {},
   "outputs": [
    {
     "data": {
      "text/plain": [
       "BaseModelOutputWithPoolingAndCrossAttentions(last_hidden_state=tensor([[[ 0.2751,  0.0932, -0.2236,  ...,  0.0792,  0.0950, -0.3112],\n",
       "         [-0.0794,  0.5820, -0.2845,  ..., -0.7664,  0.3378,  0.4985],\n",
       "         [-0.6444,  0.7205, -0.4856,  ..., -0.2679, -0.3733, -0.3072],\n",
       "         ...,\n",
       "         [ 0.5615,  0.0465,  0.1865,  ...,  0.1175,  0.2380, -0.0338],\n",
       "         [ 0.4752, -0.1167, -0.0840,  ...,  0.1972,  0.2874, -0.2859],\n",
       "         [-0.1397, -0.0451, -0.0977,  ..., -0.1370,  0.2469, -0.1779]]],\n",
       "       grad_fn=<NativeLayerNormBackward0>), pooler_output=tensor([[-0.2625,  0.3953,  0.9594,  0.1259,  0.4737,  0.4718, -0.5889, -0.3032,\n",
       "          0.9994,  0.8982,  0.9722,  0.0730,  0.7978, -0.9983,  0.2991, -0.0474,\n",
       "          0.0905,  0.1256, -0.4101,  0.9608,  0.4624, -0.6240,  0.9992, -0.2320,\n",
       "         -0.5958, -0.4801, -0.0378, -0.9768,  0.2877,  0.7969, -0.1329, -0.4353,\n",
       "          0.9915,  0.4227,  0.9704, -0.0053, -0.4190,  0.0967,  0.5680,  0.6167,\n",
       "         -0.3948, -0.5515, -0.9309, -0.9994, -0.1490,  0.2152,  0.9586, -0.5862,\n",
       "          0.1479, -0.1516, -0.9687, -0.9745, -0.1973, -0.2431, -0.4848,  0.2522,\n",
       "         -0.4432, -0.4024,  0.5936,  0.0934,  0.6102, -0.3980, -0.5558, -0.2717,\n",
       "         -0.2468, -0.9099,  0.5981,  0.6024,  0.3318, -0.2920,  0.3646, -0.5695,\n",
       "          0.2508, -0.9846, -0.9660, -0.4235, -0.5987, -0.9992,  0.7924,  0.5323,\n",
       "         -0.3250, -0.9974,  0.5000,  0.9940, -0.9506,  0.9981,  0.1017,  0.5803,\n",
       "          0.1125,  0.1671,  0.0686,  0.2743,  0.0589,  0.4806,  0.9722, -0.0235,\n",
       "          0.5995,  0.9904,  0.6127, -0.2795, -0.3012,  0.6965,  0.5154, -0.0022,\n",
       "         -0.4456,  0.1064,  0.5811, -0.0455, -0.9998, -0.2101,  0.4315,  0.0208,\n",
       "         -0.2986, -0.9836, -0.0867,  0.2879,  0.9860, -0.5293,  0.9882, -0.0056,\n",
       "         -0.0558,  0.4293, -0.8868, -0.5718, -0.3953,  0.3238,  0.1805,  0.9993,\n",
       "          0.4626, -0.1978,  0.9996,  0.4542,  0.9876,  0.9808, -0.3076, -0.9723,\n",
       "         -0.1984, -0.7747,  0.2858,  0.9670,  0.9372,  0.9962, -0.9918,  0.0692,\n",
       "         -0.0628, -0.7672,  0.0620,  0.0278, -0.0213, -0.9998, -0.5355,  0.4976,\n",
       "          0.9999, -0.2028,  0.0116,  0.2874,  0.9993,  0.9740,  0.9986,  0.2395,\n",
       "          0.1767,  0.3788, -0.0580, -0.2460,  0.9998, -0.3580, -0.0437, -0.4446,\n",
       "         -0.3636,  0.9999, -0.5712,  0.0802,  0.8824, -0.9911,  0.0191, -0.2683,\n",
       "         -0.9568,  0.2496, -0.4681, -1.0000, -0.0581, -0.9995,  0.6715,  0.9108,\n",
       "          0.5206, -0.1791,  0.4810, -0.0773, -0.2409, -0.9584,  0.2836,  0.9999,\n",
       "          0.6143,  0.3659, -0.0431,  0.3558,  0.3795, -0.5682,  0.3599, -0.0877,\n",
       "          0.2119, -0.8204, -0.8343, -0.2024, -0.9537,  0.1311,  0.7441,  0.1448,\n",
       "         -0.2495, -0.2743, -0.1346,  0.0299, -0.3684,  0.4423,  0.0949,  0.9541,\n",
       "         -0.3357, -0.1191,  0.3425,  0.0543, -0.0273, -0.1172,  0.1342, -0.2690,\n",
       "          0.2080,  0.1069,  0.0077, -0.4440, -0.6044,  0.2317,  0.1497,  0.1878,\n",
       "         -0.4140, -0.7111, -0.9664,  0.9747, -0.9408, -0.0794, -0.1527,  0.1970,\n",
       "          0.5305,  0.0532, -0.0602,  0.1297,  0.1386,  0.2708,  0.0110,  0.8892,\n",
       "          0.5066, -0.3274, -0.4288,  0.7461, -0.4541,  0.3274,  0.1531, -0.9398,\n",
       "          0.4021,  0.9443, -0.4178,  0.8748,  0.4849, -0.7338, -0.1299,  0.4629,\n",
       "          0.3994,  0.1547, -0.2327, -0.3295, -0.2031,  0.6808,  0.3690, -0.0667,\n",
       "          0.1785, -0.4281, -0.1542,  0.3353,  0.8832, -0.3209, -0.3143, -0.5057,\n",
       "          0.0565, -0.0547,  0.5606,  0.3808, -0.9857, -0.9936,  0.0107, -0.8967,\n",
       "         -0.0517, -0.6138, -0.9624, -0.1040,  0.9784,  0.1943,  0.0531, -0.3494,\n",
       "          0.9993,  0.0315,  0.1167,  0.9870, -0.9949, -0.7742, -0.9450,  0.9988,\n",
       "         -0.1459, -0.8862, -0.5247, -0.9729,  0.3797, -0.9977,  0.2815,  0.9843,\n",
       "          0.4355, -0.5270,  0.9633, -0.1745,  0.9992,  0.9826,  0.2295, -0.4781,\n",
       "          0.0952,  0.0915, -0.4057, -0.2588, -0.8617,  0.4373,  0.4167, -0.9992,\n",
       "         -0.1354, -0.1719, -0.3748,  0.1695, -0.4578, -0.9797, -0.0083,  0.5689,\n",
       "          0.9173,  0.2107, -0.2367, -0.9019,  0.9982,  0.9095, -0.9731,  0.2315,\n",
       "         -0.8829, -0.9991,  0.3947, -0.0552, -0.4463, -0.0136, -0.1835, -0.9914,\n",
       "          0.1660,  0.9988, -0.5681, -0.3177,  0.1258,  0.3788, -0.0500,  0.4578,\n",
       "          0.9948,  0.9920, -0.9607,  0.9967,  0.1014, -0.2151,  0.9679,  0.4377,\n",
       "         -0.9431,  0.0924, -0.1083, -0.3570, -0.7250, -0.3227,  0.4833,  0.5853,\n",
       "         -0.1202,  0.3227,  0.1872,  0.8971, -0.6746, -0.4888, -0.4995,  0.9998,\n",
       "         -0.8916, -0.0395, -0.1400, -0.5290,  0.3962, -0.4440, -0.2630, -0.2588,\n",
       "         -0.9986,  0.1061,  0.8586,  0.9944,  0.2493, -0.2890,  0.3034, -0.1055,\n",
       "          0.4118,  0.3754, -0.9965,  0.9228,  0.9973,  0.3329, -0.5758,  0.5850,\n",
       "         -0.9209, -0.1210, -0.3880,  0.2577, -0.9117, -0.4850,  0.0354, -0.9883,\n",
       "         -0.9792,  0.3194,  0.5247,  0.1147,  0.9483,  0.2892,  0.1700, -0.3723,\n",
       "         -0.9954,  0.6413, -0.2564, -0.9820, -0.9510, -0.2253, -0.3037,  0.0072,\n",
       "         -0.9861, -0.9092, -0.2867,  0.9784, -0.9782,  0.0754, -0.4710,  0.1004,\n",
       "          0.5252,  0.9736,  0.5034, -0.2619,  0.9885, -0.9901,  0.2647, -0.3845,\n",
       "          0.9836,  0.9777, -0.8918, -0.4238,  0.1224, -0.1388,  0.0726, -0.9996,\n",
       "          0.3307,  0.9923,  0.9969,  0.1006,  0.0454,  0.6045,  0.4736, -0.9158,\n",
       "          0.9978, -0.9845, -0.1077,  0.1809,  0.3385,  0.1979,  0.0794,  0.1822,\n",
       "         -0.1610, -0.9972,  0.2534, -0.8755, -0.1642,  0.1669,  0.5015,  0.3500,\n",
       "         -0.9824, -0.3211,  0.9209,  0.9886,  0.7968,  0.3437,  0.4393,  0.9955,\n",
       "         -0.8850,  0.3888, -0.1264, -0.4117,  0.5692, -0.5395, -0.8746,  0.5023,\n",
       "          0.1212,  0.0917,  0.7314,  0.3044,  0.8881, -0.9971, -0.3603,  0.0515,\n",
       "          0.9907, -0.6362, -0.0034, -0.8810,  0.9254, -0.1346, -0.3075,  0.5516,\n",
       "          0.3982, -0.8865,  0.6188,  0.1010, -0.1774, -0.2911, -0.9948,  0.3773,\n",
       "          0.9633, -0.1179, -0.4066,  0.9517, -0.3241,  0.5548,  0.5668,  0.3027,\n",
       "          0.2520, -0.9252, -0.1477, -0.9985,  0.1175, -0.1222,  0.2521,  0.1643,\n",
       "         -0.6215,  0.6509, -0.8199, -0.9940,  0.0583, -0.3556, -0.0159,  0.9590,\n",
       "         -0.0443, -0.9863,  0.1246, -0.9079, -0.4728,  0.0396, -0.2983,  0.3043,\n",
       "          0.2398, -0.2937,  0.3372,  0.6736, -0.3464,  0.3790,  0.2849,  0.2168,\n",
       "         -0.3956, -0.6606,  0.6367,  0.2158,  0.1332, -0.1307,  0.0332,  0.4229,\n",
       "         -0.6256,  0.2077,  0.2585,  0.3674, -0.0046,  0.5756,  0.0354,  0.9871,\n",
       "          0.1841, -0.9986,  0.2749,  0.3394,  0.2834, -0.0606,  0.4969,  0.8978,\n",
       "          0.9895,  0.1485,  0.4211,  0.9974, -0.4714, -0.5736,  0.0890,  0.0207,\n",
       "          0.7690,  0.1132,  0.0794, -0.9979, -0.4168, -0.2846,  0.8434, -0.5811,\n",
       "          0.1013, -0.9907,  0.1733, -0.9804, -0.2508, -0.1701, -0.3853, -0.4818,\n",
       "         -0.5970, -0.3148,  0.7907, -0.3868, -0.7431, -0.5738, -0.5092,  0.1660,\n",
       "          0.1125, -0.6132, -0.9630,  0.3136,  0.1394,  0.0490, -0.9985, -0.2591,\n",
       "         -0.9374, -0.2269, -0.5304, -0.1532, -0.9983, -0.0635,  0.0162,  0.3282,\n",
       "          0.4526,  0.6111, -0.3296, -0.3640, -0.2775,  0.4190,  0.3813, -0.0264,\n",
       "          0.9990, -0.5526,  0.2584,  0.9989, -0.5233, -0.1614, -0.9166, -0.9648,\n",
       "         -0.2456,  0.1369,  0.4691,  0.2431, -0.5635,  0.0592, -0.1134,  0.9964,\n",
       "          0.3353, -0.5343, -0.8952, -0.8371, -0.2920,  0.2532,  0.0121,  0.9826,\n",
       "         -0.3801,  0.7016,  0.2645, -0.2796,  0.2249,  0.1131, -0.1809,  0.4735,\n",
       "         -0.0426,  0.9190, -0.9682,  0.9180, -0.1532,  0.9942,  0.7391, -0.9079,\n",
       "         -0.9971,  0.1671,  0.9988,  0.9615, -0.7750, -0.3517, -0.2152, -0.1455,\n",
       "         -0.0913,  0.3088,  0.2901,  0.2957,  0.4261, -0.3712,  0.9983, -0.0426,\n",
       "          0.9926, -0.9988, -0.5936, -0.0543,  0.9971, -0.5570,  0.0530, -0.3624,\n",
       "          0.9982,  0.0972, -0.8413,  0.1807,  0.4860, -0.2229, -0.2298, -0.3547,\n",
       "         -0.2386,  0.7000, -0.5094, -0.9546, -0.0344,  0.4261,  0.4642,  0.3289,\n",
       "         -0.0474, -0.3671, -0.8079, -0.1487,  0.9831, -0.1163, -0.4410,  0.9699,\n",
       "         -0.9982,  0.5396,  0.3827, -0.3086, -0.1378, -0.9902,  0.5581,  0.4038,\n",
       "         -0.1964, -0.1504, -0.7442,  0.9819,  0.8749,  0.4111,  0.1055, -0.1946,\n",
       "          0.0760,  0.9949, -0.4381,  0.9685, -0.9949,  0.9842,  0.1435, -0.0100,\n",
       "          0.9539,  0.4156, -0.0439,  0.4564,  0.6308, -0.6185,  0.7608,  0.9990,\n",
       "         -0.9125,  0.2406,  0.1409,  0.9840,  0.5123,  0.2786,  0.5791, -0.1889]],\n",
       "       grad_fn=<TanhBackward0>), hidden_states=None, past_key_values=None, attentions=None, cross_attentions=None)"
      ]
     },
     "execution_count": 8,
     "metadata": {},
     "output_type": "execute_result"
    }
   ],
   "source": [
    "outputs"
   ]
  },
  {
   "cell_type": "code",
   "execution_count": null,
   "id": "16e0ca9f",
   "metadata": {},
   "outputs": [],
   "source": []
  }
 ],
 "metadata": {
  "kernelspec": {
   "display_name": "Python 3 (ipykernel)",
   "language": "python",
   "name": "python3"
  },
  "language_info": {
   "codemirror_mode": {
    "name": "ipython",
    "version": 3
   },
   "file_extension": ".py",
   "mimetype": "text/x-python",
   "name": "python",
   "nbconvert_exporter": "python",
   "pygments_lexer": "ipython3",
   "version": "3.9.12"
  }
 },
 "nbformat": 4,
 "nbformat_minor": 5
}
